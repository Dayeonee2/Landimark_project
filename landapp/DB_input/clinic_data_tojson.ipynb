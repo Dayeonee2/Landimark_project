{
 "cells": [
  {
   "cell_type": "code",
   "execution_count": 16,
   "metadata": {},
   "outputs": [
    {
     "name": "stdout",
     "output_type": "stream",
     "text": [
      "None\n"
     ]
    }
   ],
   "source": [
    "# 공공민원 csv 파일 dataframe -> json 파일로 변환\n",
    "#categoryId  공공민원: 1 , 건강/의료: 2\n",
    "import pandas as pd\n",
    "import json\n",
    "from pathlib import Path\n",
    "import os\n",
    "\n",
    "BASE_DIR = Path(os.getcwd()).resolve().parent.parent  # landimark_project\n",
    "file_path= BASE_DIR / \"dymodeling\" / \"public_result.csv\"\n",
    "save_path=BASE_DIR / \"landapp\" / \"chatbot\" / \"fixtures\"\n",
    "\n",
    "df=pd.read_csv(file_path, encoding='utf-8-sig')\n",
    "df['categoryId']=1   \n",
    "\n",
    "save_json_file=save_path / \"public_data.json\"\n",
    "json_data=df.to_json(save_json_file, orient='records', force_ascii=False, indent=4)\n",
    "print(json_data)\n"
   ]
  },
  {
   "cell_type": "code",
   "execution_count": null,
   "metadata": {},
   "outputs": [],
   "source": []
  }
 ],
 "metadata": {
  "kernelspec": {
   "display_name": "venv",
   "language": "python",
   "name": "python3"
  },
  "language_info": {
   "codemirror_mode": {
    "name": "ipython",
    "version": 3
   },
   "file_extension": ".py",
   "mimetype": "text/x-python",
   "name": "python",
   "nbconvert_exporter": "python",
   "pygments_lexer": "ipython3",
   "version": "3.12.6"
  }
 },
 "nbformat": 4,
 "nbformat_minor": 2
}
