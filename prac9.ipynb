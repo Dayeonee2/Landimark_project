{
 "cells": [
  {
   "cell_type": "code",
   "execution_count": 1,
   "metadata": {},
   "outputs": [
    {
     "name": "stdout",
     "output_type": "stream",
     "text": [
      "<class 'pandas.core.frame.DataFrame'>\n",
      "RangeIndex: 34447 entries, 0 to 34446\n",
      "Data columns (total 7 columns):\n",
      " #   Column         Non-Null Count  Dtype \n",
      "---  ------         --------------  ----- \n",
      " 0   location       34447 non-null  object\n",
      " 1   client_gender  34447 non-null  int64 \n",
      " 2   client_age     34447 non-null  int64 \n",
      " 3   question       34447 non-null  object\n",
      " 4   answer         34447 non-null  object\n",
      " 5   category01     34447 non-null  object\n",
      " 6   category02     34447 non-null  object\n",
      "dtypes: int64(2), object(5)\n",
      "memory usage: 1.8+ MB\n"
     ]
    }
   ],
   "source": [
    "import pandas as pd\n",
    "\n",
    "health_df = pd.read_csv('health_df.csv')\n",
    "health_df.info()"
   ]
  },
  {
   "cell_type": "code",
   "execution_count": 2,
   "metadata": {},
   "outputs": [
    {
     "name": "stderr",
     "output_type": "stream",
     "text": [
      "C:\\Users\\user\\AppData\\Roaming\\Python\\Python312\\site-packages\\sentence_transformers\\cross_encoder\\CrossEncoder.py:13: TqdmExperimentalWarning: Using `tqdm.autonotebook.tqdm` in notebook mode. Use `tqdm.tqdm` instead to force console mode (e.g. in jupyter console)\n",
      "  from tqdm.autonotebook import tqdm, trange\n"
     ]
    },
    {
     "name": "stdout",
     "output_type": "stream",
     "text": [
      "WARNING:tensorflow:From C:\\Users\\user\\AppData\\Roaming\\Python\\Python312\\site-packages\\tf_keras\\src\\losses.py:2976: The name tf.losses.sparse_softmax_cross_entropy is deprecated. Please use tf.compat.v1.losses.sparse_softmax_cross_entropy instead.\n",
      "\n"
     ]
    }
   ],
   "source": [
    "from sentence_transformers import SentenceTransformer, util\n",
    "\n",
    "# S-BERT 모델 로드\n",
    "model = SentenceTransformer('paraphrase-multilingual-MiniLM-L12-v2')"
   ]
  },
  {
   "cell_type": "code",
   "execution_count": 3,
   "metadata": {},
   "outputs": [
    {
     "name": "stderr",
     "output_type": "stream",
     "text": [
      "public embedding is creating: 100%|██████████| 34447/34447 [12:14<00:00, 46.88it/s]\n"
     ]
    }
   ],
   "source": [
    "from tqdm import tqdm\n",
    "\n",
    "# tqdm의 기본 설정\n",
    "tqdm.pandas(desc=\"public embedding is creating\")\n",
    "\n",
    "# 모든 질문의 임베딩을 미리 계산하여 저장 (S-BERT로 임베딩 생성)\n",
    "health_df['embedding'] = health_df['question'].progress_apply(lambda x: model.encode(x))"
   ]
  },
  {
   "cell_type": "code",
   "execution_count": 4,
   "metadata": {},
   "outputs": [],
   "source": [
    "# 사용자 입력에 대한 최적의 답변 선택 함수\n",
    "def get_best_response(user_input, threshold=0.8):\n",
    "    user_embedding = model.encode(user_input)  # S-BERT로 입력 문장 임베딩\n",
    "    \n",
    "    best_similarity = 0\n",
    "    best_response = None\n",
    "    \n",
    "    for _, row in health_df.iterrows():\n",
    "        # S-BERT로 코사인 유사도 계산\n",
    "        similarity = util.cos_sim(user_embedding, row['embedding'])[0][0].item()\n",
    "        if similarity > best_similarity:\n",
    "            best_similarity = similarity\n",
    "            best_response = row['answer']\n",
    "    \n",
    "    # 유사도가 기준 이상일 경우 응답 반환\n",
    "    if best_similarity >= threshold:\n",
    "        return best_response\n",
    "    else:\n",
    "        return \"죄송하지만, 이해할 수 없습니다.\""
   ]
  },
  {
   "cell_type": "code",
   "execution_count": 5,
   "metadata": {},
   "outputs": [],
   "source": [
    "model.save('health_sbert_model2')"
   ]
  },
  {
   "cell_type": "code",
   "execution_count": 6,
   "metadata": {},
   "outputs": [],
   "source": [
    "health_df.to_csv('health_df_embeddings2.csv', index=False)"
   ]
  },
  {
   "cell_type": "code",
   "execution_count": 7,
   "metadata": {},
   "outputs": [
    {
     "name": "stdout",
     "output_type": "stream",
     "text": [
      "챗봇: 눈병과 결막염이 의심되는 증상입니다. 잠시 기다려주시면 진료 도와드리겠습니다.\n",
      "챗봇: 간단 접수 후 바로 도와드리겠습니다.\n",
      "챗봇: 죄송하지만, 이해할 수 없습니다.\n",
      "챗봇: 죄송하지만, 이해할 수 없습니다.\n",
      "챗봇: 예약 내역 확인되었습니다. 2층 호흡기 내과로 가시면 됩니다.\n",
      "챗봇: 목요일을 제외한 모든 요일에 진료 가능하십니다. 원하시는 날을 말씀해 주십시오.\n",
      "챗봇: 네 날짜를 말씀해 주시면 비어 있는 시간대를 보여 드리겠습니다.\n",
      "챗봇: 다음 달 진료는 전화문의를 통해 예약 가능합니다.\n",
      "챗봇: 죄송하지만, 이해할 수 없습니다.\n",
      "챗봇: 해당 날짜 예약이 불가능합니다. 다른 날짜를 말씀해 주시기 바랍니다.\n",
      "챗봇: 피부 사정에 따라 다 달라서 말씀드리기가 어렵습니다. 증상은 사람마다 다릅니다.\n",
      "챗봇: 예약일이 지났으면 다시 예약해 주셔야 합니다. 현재는 열 명의 대기 인원이 있습니다.\n",
      "챗봇: 말씀을 이해하지 못했습니다. 다시 한번 말씀해 주시길 부탁드립니다.\n",
      "챗봇: 안과 진료는 3층으로 엘리베이터 타고 올라가시면 됩니다.\n",
      "챗봇: 새싹 약국에서 구입하실 수 있습니다. 요청 시 정확한 위치정보를 검색해 드리겠습니다.\n",
      "챗봇: 즉시 수리 요청드리겠습니다. 기다려주시기 바랍니다.\n",
      "챗봇: 수납은 현금 납부, 카드 결제 및 계좌 이체가 가능합니다.\n",
      "챗봇: 죄송하지만, 이해할 수 없습니다.\n",
      "챗봇: 죄송하지만, 이해할 수 없습니다.\n"
     ]
    }
   ],
   "source": [
    "# 사용자로부터 입력받기\n",
    "while True:\n",
    "    user_input = input(\"사용자 입력 (종료하려면 'exit' 입력): \")\n",
    "    if user_input.lower() == 'exit':\n",
    "        break\n",
    "    \n",
    "    # 가장 적합한 응답 가져오기\n",
    "    response = get_best_response(user_input)\n",
    "    print(f\"챗봇: {response}\")"
   ]
  }
 ],
 "metadata": {
  "kernelspec": {
   "display_name": "Python 3",
   "language": "python",
   "name": "python3"
  },
  "language_info": {
   "codemirror_mode": {
    "name": "ipython",
    "version": 3
   },
   "file_extension": ".py",
   "mimetype": "text/x-python",
   "name": "python",
   "nbconvert_exporter": "python",
   "pygments_lexer": "ipython3",
   "version": "3.12.4"
  }
 },
 "nbformat": 4,
 "nbformat_minor": 2
}
