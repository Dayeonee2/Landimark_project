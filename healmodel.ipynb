{
 "cells": [
  {
   "cell_type": "code",
   "execution_count": 1,
   "metadata": {},
   "outputs": [],
   "source": [
    "import pandas as pd\n",
    "\n",
    "health_df = pd.read_csv('health_df.csv')"
   ]
  },
  {
   "cell_type": "code",
   "execution_count": 2,
   "metadata": {},
   "outputs": [
    {
     "name": "stdout",
     "output_type": "stream",
     "text": [
      "<class 'pandas.core.frame.DataFrame'>\n",
      "RangeIndex: 34447 entries, 0 to 34446\n",
      "Data columns (total 7 columns):\n",
      " #   Column         Non-Null Count  Dtype \n",
      "---  ------         --------------  ----- \n",
      " 0   location       34447 non-null  object\n",
      " 1   client_gender  34447 non-null  int64 \n",
      " 2   client_age     34447 non-null  int64 \n",
      " 3   question       34447 non-null  object\n",
      " 4   answer         34447 non-null  object\n",
      " 5   category01     34447 non-null  object\n",
      " 6   category02     34447 non-null  object\n",
      "dtypes: int64(2), object(5)\n",
      "memory usage: 1.8+ MB\n"
     ]
    }
   ],
   "source": [
    "health_df.info()"
   ]
  },
  {
   "cell_type": "code",
   "execution_count": 3,
   "metadata": {},
   "outputs": [
    {
     "name": "stderr",
     "output_type": "stream",
     "text": [
      "C:\\Users\\user\\AppData\\Roaming\\Python\\Python312\\site-packages\\sentence_transformers\\cross_encoder\\CrossEncoder.py:13: TqdmExperimentalWarning: Using `tqdm.autonotebook.tqdm` in notebook mode. Use `tqdm.tqdm` instead to force console mode (e.g. in jupyter console)\n",
      "  from tqdm.autonotebook import tqdm, trange\n"
     ]
    },
    {
     "name": "stdout",
     "output_type": "stream",
     "text": [
      "WARNING:tensorflow:From C:\\Users\\user\\AppData\\Roaming\\Python\\Python312\\site-packages\\tf_keras\\src\\losses.py:2976: The name tf.losses.sparse_softmax_cross_entropy is deprecated. Please use tf.compat.v1.losses.sparse_softmax_cross_entropy instead.\n",
      "\n"
     ]
    }
   ],
   "source": [
    "import joblib\n",
    "from sentence_transformers import SentenceTransformer\n",
    "from tqdm import tqdm  # tqdm 임포트\n",
    "\n",
    "# tqdm과 pandas를 통합\n",
    "tqdm.pandas()\n",
    "\n",
    "# 1. 로지스틱 회귀 모델 로드\n",
    "clf = joblib.load('logistic_regression_model.pkl')\n",
    "\n",
    "# 2. S-BERT 모델 로드\n",
    "model = SentenceTransformer('sentence_transformer_model')"
   ]
  },
  {
   "cell_type": "code",
   "execution_count": 4,
   "metadata": {},
   "outputs": [
    {
     "name": "stderr",
     "output_type": "stream",
     "text": [
      "100%|██████████| 34447/34447 [11:49<00:00, 48.52it/s]\n"
     ]
    }
   ],
   "source": [
    "# 3. health_df의 'question'에 대해 임베딩 생성 및 tqdm 적용\n",
    "health_df['embedding'] = health_df['question'].progress_apply(lambda x: model.encode(x))"
   ]
  },
  {
   "cell_type": "code",
   "execution_count": 5,
   "metadata": {},
   "outputs": [],
   "source": [
    "from konlpy.tag import Okt\n",
    "\n",
    "okt = Okt()\n",
    "stop_words = ['의', '가', '이', '은', '들', '는', '좀', '잘', '걍', '과', '도', '를', '으로', '자', '에', '와', '한', '하다']"
   ]
  },
  {
   "cell_type": "code",
   "execution_count": 6,
   "metadata": {},
   "outputs": [],
   "source": [
    "def preprocess_text(text, stop_words):\n",
    "    tokens = okt.morphs(text)  # 형태소 분석으로 토큰화\n",
    "    filtered_tokens = [word for word in tokens if word not in stop_words]  # 불용어 제거\n",
    "    return ' '.join(filtered_tokens)"
   ]
  },
  {
   "cell_type": "code",
   "execution_count": 7,
   "metadata": {},
   "outputs": [],
   "source": [
    "from sentence_transformers import util, SentenceTransformer\n",
    "\n",
    "def get_best_response(user_input, model, health_df, threshold=0.8):\n",
    "    user_embedding = model.encode(user_input)  # 사용자 입력 임베딩\n",
    "    best_similarity = 0\n",
    "    best_response = None\n",
    "    \n",
    "    # 각 질문에 대해 S-BERT 유사도 계산\n",
    "    for _, row in health_df.iterrows():\n",
    "        similarity = util.cos_sim(user_embedding, row['embedding'])[0][0].item()\n",
    "        if similarity > best_similarity:\n",
    "            best_similarity = similarity\n",
    "            best_response = row['answer']  # 가장 유사한 답변 업데이트\n",
    "    \n",
    "    # 임계값 이상의 유사도일 경우 답변 반환\n",
    "    if best_similarity >= threshold:\n",
    "        return best_response\n",
    "    else:\n",
    "        return \"죄송하지만, 이해할 수 없습니다.\""
   ]
  },
  {
   "cell_type": "code",
   "execution_count": 8,
   "metadata": {},
   "outputs": [],
   "source": [
    "# 사용자 입력 필터링 (업데이트)\n",
    "def filter_user_input(user_input, clf, model):\n",
    "    processed_input = preprocess_text(user_input, stop_words)\n",
    "    user_embedding = model.encode(processed_input)\n",
    "    \n",
    "    predicted_label = clf.predict([user_embedding])[0]\n",
    "    \n",
    "    if predicted_label == 1:\n",
    "        return \"경고: 모욕적인 텍스트가 감지되었습니다.\"\n",
    "    else:\n",
    "        # 정상 텍스트인 경우 최적의 질문과 답변 선택\n",
    "        return get_best_response(processed_input, model, health_df)"
   ]
  },
  {
   "cell_type": "code",
   "execution_count": 9,
   "metadata": {},
   "outputs": [
    {
     "name": "stdout",
     "output_type": "stream",
     "text": [
      "대기실 위치를 안내해 드릴 테니 따라오시길 바랍니다.\n",
      "경고: 모욕적인 텍스트가 감지되었습니다.\n",
      "복도 끝 우측에 있습니다. 남자 화장실은 그 반대에 있으니 참고 부탁드립니다.\n",
      "경고: 모욕적인 텍스트가 감지되었습니다.\n"
     ]
    }
   ],
   "source": [
    "# 사용자 입력 테스트\n",
    "while True:\n",
    "    user_input = input(\"사용자 입력 (종료하려면 'exit' 입력): \")\n",
    "    if user_input.lower() == 'exit':\n",
    "        break\n",
    "    \n",
    "    result = filter_user_input(user_input, clf, model)\n",
    "    print(result)"
   ]
  }
 ],
 "metadata": {
  "kernelspec": {
   "display_name": "Python 3",
   "language": "python",
   "name": "python3"
  },
  "language_info": {
   "codemirror_mode": {
    "name": "ipython",
    "version": 3
   },
   "file_extension": ".py",
   "mimetype": "text/x-python",
   "name": "python",
   "nbconvert_exporter": "python",
   "pygments_lexer": "ipython3",
   "version": "3.12.4"
  }
 },
 "nbformat": 4,
 "nbformat_minor": 2
}
