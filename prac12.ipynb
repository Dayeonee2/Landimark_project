{
 "cells": [
  {
   "cell_type": "code",
   "execution_count": 1,
   "metadata": {},
   "outputs": [
    {
     "name": "stderr",
     "output_type": "stream",
     "text": [
      "C:\\Users\\user\\AppData\\Roaming\\Python\\Python312\\site-packages\\sentence_transformers\\cross_encoder\\CrossEncoder.py:13: TqdmExperimentalWarning: Using `tqdm.autonotebook.tqdm` in notebook mode. Use `tqdm.tqdm` instead to force console mode (e.g. in jupyter console)\n",
      "  from tqdm.autonotebook import tqdm, trange\n"
     ]
    },
    {
     "name": "stdout",
     "output_type": "stream",
     "text": [
      "WARNING:tensorflow:From C:\\Users\\user\\AppData\\Roaming\\Python\\Python312\\site-packages\\tf_keras\\src\\losses.py:2976: The name tf.losses.sparse_softmax_cross_entropy is deprecated. Please use tf.compat.v1.losses.sparse_softmax_cross_entropy instead.\n",
      "\n"
     ]
    }
   ],
   "source": [
    "import joblib\n",
    "from sentence_transformers import SentenceTransformer\n",
    "from konlpy.tag import Okt\n",
    "import numpy as np\n",
    "\n",
    "# 1. 로지스틱 회귀 모델 로드\n",
    "clf = joblib.load('logistic_regression_model.pkl')\n",
    "\n",
    "# 2. S-BERT 모델 로드\n",
    "model = SentenceTransformer('sentence_transformer_model')\n",
    "\n",
    "# 3. 형태소 분석기와 불용어 설정\n",
    "okt = Okt()\n",
    "stop_words = ['의', '가', '이', '은', '들', '는', '좀', '잘', '걍', '과', '도', '를', '으로', '자', '에', '와', '한', '하다']"
   ]
  },
  {
   "cell_type": "code",
   "execution_count": 2,
   "metadata": {},
   "outputs": [],
   "source": [
    "# 4. 텍스트 전처리 함수 정의 (형태소 분석 및 불용어 제거)\n",
    "def preprocess_text(text, stop_words):\n",
    "    tokens = okt.morphs(text)  # 형태소 분석으로 토큰화\n",
    "    filtered_tokens = [word for word in tokens if word not in stop_words]  # 불용어 제거\n",
    "    return ' '.join(filtered_tokens)"
   ]
  },
  {
   "cell_type": "code",
   "execution_count": 3,
   "metadata": {},
   "outputs": [],
   "source": [
    "# 5. 사용자 입력에 대한 필터링 기능 정의\n",
    "def filter_user_input(user_input):\n",
    "    # 사용자 입력 전처리\n",
    "    processed_input = preprocess_text(user_input, stop_words)\n",
    "    \n",
    "    # S-BERT로 임베딩\n",
    "    user_embedding = model.encode(processed_input).tolist()\n",
    "    \n",
    "    # 예측 (모욕적 텍스트인지 여부)\n",
    "    predicted_label = clf.predict([user_embedding])[0]\n",
    "    \n",
    "    # 예측된 레이블이 1 (모욕적인 텍스트) 인 경우 필터링\n",
    "    if predicted_label == 1:\n",
    "        return \"경고: 모욕적인 텍스트가 감지되었습니다.\"\n",
    "    else:\n",
    "        return \"정상 텍스트입니다.\""
   ]
  },
  {
   "cell_type": "code",
   "execution_count": 4,
   "metadata": {},
   "outputs": [
    {
     "name": "stdout",
     "output_type": "stream",
     "text": [
      "경고: 모욕적인 텍스트가 감지되었습니다.\n",
      "정상 텍스트입니다.\n",
      "정상 텍스트입니다.\n",
      "정상 텍스트입니다.\n",
      "경고: 모욕적인 텍스트가 감지되었습니다.\n",
      "정상 텍스트입니다.\n"
     ]
    }
   ],
   "source": [
    "# 6. 사용자 입력 테스트 루프\n",
    "while True:\n",
    "    user_input = input(\"사용자 입력 (종료하려면 'exit' 입력): \")\n",
    "    if user_input.lower() == 'exit':\n",
    "        break\n",
    "    \n",
    "    result = filter_user_input(user_input)\n",
    "    print(result)"
   ]
  },
  {
   "cell_type": "code",
   "execution_count": null,
   "metadata": {},
   "outputs": [],
   "source": []
  }
 ],
 "metadata": {
  "kernelspec": {
   "display_name": "Python 3",
   "language": "python",
   "name": "python3"
  },
  "language_info": {
   "codemirror_mode": {
    "name": "ipython",
    "version": 3
   },
   "file_extension": ".py",
   "mimetype": "text/x-python",
   "name": "python",
   "nbconvert_exporter": "python",
   "pygments_lexer": "ipython3",
   "version": "3.12.4"
  }
 },
 "nbformat": 4,
 "nbformat_minor": 2
}
