{
 "cells": [
  {
   "cell_type": "code",
   "execution_count": 1,
   "metadata": {},
   "outputs": [
    {
     "data": {
      "text/html": [
       "<div>\n",
       "<style scoped>\n",
       "    .dataframe tbody tr th:only-of-type {\n",
       "        vertical-align: middle;\n",
       "    }\n",
       "\n",
       "    .dataframe tbody tr th {\n",
       "        vertical-align: top;\n",
       "    }\n",
       "\n",
       "    .dataframe thead th {\n",
       "        text-align: right;\n",
       "    }\n",
       "</style>\n",
       "<table border=\"1\" class=\"dataframe\">\n",
       "  <thead>\n",
       "    <tr style=\"text-align: right;\">\n",
       "      <th></th>\n",
       "      <th>Unnamed: 0</th>\n",
       "      <th>location</th>\n",
       "      <th>client_gender</th>\n",
       "      <th>client_age</th>\n",
       "      <th>question</th>\n",
       "      <th>answer</th>\n",
       "      <th>category01</th>\n",
       "      <th>category02</th>\n",
       "    </tr>\n",
       "  </thead>\n",
       "  <tbody>\n",
       "    <tr>\n",
       "      <th>0</th>\n",
       "      <td>0</td>\n",
       "      <td>순간</td>\n",
       "      <td>2</td>\n",
       "      <td>27</td>\n",
       "      <td>혹시 가방 중에 할인 행사 중인 상품도 있을까요? 뭐가 제일 잘나가죠?</td>\n",
       "      <td>현재 여기 앞쪽에 진열돼있는 상품들 모두 할인 행사 진행 중이며, 현재 이 상품이 ...</td>\n",
       "      <td>04.쇼핑활동</td>\n",
       "      <td>22.세일 정보 안내</td>\n",
       "    </tr>\n",
       "    <tr>\n",
       "      <th>1</th>\n",
       "      <td>1</td>\n",
       "      <td>녹음실ST</td>\n",
       "      <td>2</td>\n",
       "      <td>29</td>\n",
       "      <td>여기 서명란에 펜이나 연필로 사인해도 되는 거 아니에요?</td>\n",
       "      <td>확인 결과 인감 외 사인도 동일 서명으로 처리됩니다.</td>\n",
       "      <td>03.공공기관</td>\n",
       "      <td>17.민원 신청서 용어 질문</td>\n",
       "    </tr>\n",
       "    <tr>\n",
       "      <th>2</th>\n",
       "      <td>2</td>\n",
       "      <td>토들화</td>\n",
       "      <td>1</td>\n",
       "      <td>35</td>\n",
       "      <td>여기까지 안내 감사합니다. 화장실 좀 들렸다가 마저 구경할게요.</td>\n",
       "      <td>궁금하신 점은 언제든 문의해 주십시오.</td>\n",
       "      <td>04.쇼핑활동</td>\n",
       "      <td>20.가이드 필요 유무 질문</td>\n",
       "    </tr>\n",
       "    <tr>\n",
       "      <th>3</th>\n",
       "      <td>3</td>\n",
       "      <td>추억</td>\n",
       "      <td>2</td>\n",
       "      <td>33</td>\n",
       "      <td>이런 전기 요금 할인처럼 비슷한 서비스 같은 것이 또 있나요?</td>\n",
       "      <td>네 소득기준과 세대원 특정 기준에 모두 충족하는 세대에게 에너지 바우처를 지원해 줍니다.</td>\n",
       "      <td>03.공공기관</td>\n",
       "      <td>18.관내 복지 지원금 정보 질문</td>\n",
       "    </tr>\n",
       "    <tr>\n",
       "      <th>4</th>\n",
       "      <td>4</td>\n",
       "      <td>방그레</td>\n",
       "      <td>2</td>\n",
       "      <td>34</td>\n",
       "      <td>가능하면 내일 가장 늦게 끝나는 전시로 성인 한 명 예약해 주세요.</td>\n",
       "      <td>가장 늦게 마감하는 전시회인 마법사의 돌로 성인 한 명 예약하겠습니다.</td>\n",
       "      <td>02.전시관</td>\n",
       "      <td>07.티켓구매</td>\n",
       "    </tr>\n",
       "  </tbody>\n",
       "</table>\n",
       "</div>"
      ],
      "text/plain": [
       "   Unnamed: 0 location  client_gender  client_age  \\\n",
       "0           0       순간              2          27   \n",
       "1           1    녹음실ST              2          29   \n",
       "2           2      토들화              1          35   \n",
       "3           3       추억              2          33   \n",
       "4           4      방그레              2          34   \n",
       "\n",
       "                                  question  \\\n",
       "0  혹시 가방 중에 할인 행사 중인 상품도 있을까요? 뭐가 제일 잘나가죠?   \n",
       "1          여기 서명란에 펜이나 연필로 사인해도 되는 거 아니에요?   \n",
       "2      여기까지 안내 감사합니다. 화장실 좀 들렸다가 마저 구경할게요.   \n",
       "3       이런 전기 요금 할인처럼 비슷한 서비스 같은 것이 또 있나요?   \n",
       "4    가능하면 내일 가장 늦게 끝나는 전시로 성인 한 명 예약해 주세요.   \n",
       "\n",
       "                                              answer category01  \\\n",
       "0  현재 여기 앞쪽에 진열돼있는 상품들 모두 할인 행사 진행 중이며, 현재 이 상품이 ...    04.쇼핑활동   \n",
       "1                      확인 결과 인감 외 사인도 동일 서명으로 처리됩니다.    03.공공기관   \n",
       "2                              궁금하신 점은 언제든 문의해 주십시오.    04.쇼핑활동   \n",
       "3  네 소득기준과 세대원 특정 기준에 모두 충족하는 세대에게 에너지 바우처를 지원해 줍니다.    03.공공기관   \n",
       "4            가장 늦게 마감하는 전시회인 마법사의 돌로 성인 한 명 예약하겠습니다.     02.전시관   \n",
       "\n",
       "           category02  \n",
       "0         22.세일 정보 안내  \n",
       "1     17.민원 신청서 용어 질문  \n",
       "2     20.가이드 필요 유무 질문  \n",
       "3  18.관내 복지 지원금 정보 질문  \n",
       "4             07.티켓구매  "
      ]
     },
     "execution_count": 1,
     "metadata": {},
     "output_type": "execute_result"
    }
   ],
   "source": [
    "import pandas as pd\n",
    "\n",
    "df = pd.read_csv('final_result.csv')\n",
    "df.head()"
   ]
  },
  {
   "cell_type": "code",
   "execution_count": 2,
   "metadata": {},
   "outputs": [],
   "source": [
    "df.drop('Unnamed: 0', axis=1, inplace=True)"
   ]
  },
  {
   "cell_type": "code",
   "execution_count": 3,
   "metadata": {},
   "outputs": [
    {
     "data": {
      "text/html": [
       "<div>\n",
       "<style scoped>\n",
       "    .dataframe tbody tr th:only-of-type {\n",
       "        vertical-align: middle;\n",
       "    }\n",
       "\n",
       "    .dataframe tbody tr th {\n",
       "        vertical-align: top;\n",
       "    }\n",
       "\n",
       "    .dataframe thead th {\n",
       "        text-align: right;\n",
       "    }\n",
       "</style>\n",
       "<table border=\"1\" class=\"dataframe\">\n",
       "  <thead>\n",
       "    <tr style=\"text-align: right;\">\n",
       "      <th></th>\n",
       "      <th>location</th>\n",
       "      <th>client_gender</th>\n",
       "      <th>client_age</th>\n",
       "      <th>question</th>\n",
       "      <th>answer</th>\n",
       "      <th>category01</th>\n",
       "      <th>category02</th>\n",
       "    </tr>\n",
       "  </thead>\n",
       "  <tbody>\n",
       "    <tr>\n",
       "      <th>0</th>\n",
       "      <td>순간</td>\n",
       "      <td>2</td>\n",
       "      <td>27</td>\n",
       "      <td>혹시 가방 중에 할인 행사 중인 상품도 있을까요? 뭐가 제일 잘나가죠?</td>\n",
       "      <td>현재 여기 앞쪽에 진열돼있는 상품들 모두 할인 행사 진행 중이며, 현재 이 상품이 ...</td>\n",
       "      <td>04.쇼핑활동</td>\n",
       "      <td>22.세일 정보 안내</td>\n",
       "    </tr>\n",
       "    <tr>\n",
       "      <th>1</th>\n",
       "      <td>녹음실ST</td>\n",
       "      <td>2</td>\n",
       "      <td>29</td>\n",
       "      <td>여기 서명란에 펜이나 연필로 사인해도 되는 거 아니에요?</td>\n",
       "      <td>확인 결과 인감 외 사인도 동일 서명으로 처리됩니다.</td>\n",
       "      <td>03.공공기관</td>\n",
       "      <td>17.민원 신청서 용어 질문</td>\n",
       "    </tr>\n",
       "    <tr>\n",
       "      <th>2</th>\n",
       "      <td>토들화</td>\n",
       "      <td>1</td>\n",
       "      <td>35</td>\n",
       "      <td>여기까지 안내 감사합니다. 화장실 좀 들렸다가 마저 구경할게요.</td>\n",
       "      <td>궁금하신 점은 언제든 문의해 주십시오.</td>\n",
       "      <td>04.쇼핑활동</td>\n",
       "      <td>20.가이드 필요 유무 질문</td>\n",
       "    </tr>\n",
       "    <tr>\n",
       "      <th>3</th>\n",
       "      <td>추억</td>\n",
       "      <td>2</td>\n",
       "      <td>33</td>\n",
       "      <td>이런 전기 요금 할인처럼 비슷한 서비스 같은 것이 또 있나요?</td>\n",
       "      <td>네 소득기준과 세대원 특정 기준에 모두 충족하는 세대에게 에너지 바우처를 지원해 줍니다.</td>\n",
       "      <td>03.공공기관</td>\n",
       "      <td>18.관내 복지 지원금 정보 질문</td>\n",
       "    </tr>\n",
       "    <tr>\n",
       "      <th>4</th>\n",
       "      <td>방그레</td>\n",
       "      <td>2</td>\n",
       "      <td>34</td>\n",
       "      <td>가능하면 내일 가장 늦게 끝나는 전시로 성인 한 명 예약해 주세요.</td>\n",
       "      <td>가장 늦게 마감하는 전시회인 마법사의 돌로 성인 한 명 예약하겠습니다.</td>\n",
       "      <td>02.전시관</td>\n",
       "      <td>07.티켓구매</td>\n",
       "    </tr>\n",
       "  </tbody>\n",
       "</table>\n",
       "</div>"
      ],
      "text/plain": [
       "  location  client_gender  client_age  \\\n",
       "0       순간              2          27   \n",
       "1    녹음실ST              2          29   \n",
       "2      토들화              1          35   \n",
       "3       추억              2          33   \n",
       "4      방그레              2          34   \n",
       "\n",
       "                                  question  \\\n",
       "0  혹시 가방 중에 할인 행사 중인 상품도 있을까요? 뭐가 제일 잘나가죠?   \n",
       "1          여기 서명란에 펜이나 연필로 사인해도 되는 거 아니에요?   \n",
       "2      여기까지 안내 감사합니다. 화장실 좀 들렸다가 마저 구경할게요.   \n",
       "3       이런 전기 요금 할인처럼 비슷한 서비스 같은 것이 또 있나요?   \n",
       "4    가능하면 내일 가장 늦게 끝나는 전시로 성인 한 명 예약해 주세요.   \n",
       "\n",
       "                                              answer category01  \\\n",
       "0  현재 여기 앞쪽에 진열돼있는 상품들 모두 할인 행사 진행 중이며, 현재 이 상품이 ...    04.쇼핑활동   \n",
       "1                      확인 결과 인감 외 사인도 동일 서명으로 처리됩니다.    03.공공기관   \n",
       "2                              궁금하신 점은 언제든 문의해 주십시오.    04.쇼핑활동   \n",
       "3  네 소득기준과 세대원 특정 기준에 모두 충족하는 세대에게 에너지 바우처를 지원해 줍니다.    03.공공기관   \n",
       "4            가장 늦게 마감하는 전시회인 마법사의 돌로 성인 한 명 예약하겠습니다.     02.전시관   \n",
       "\n",
       "           category02  \n",
       "0         22.세일 정보 안내  \n",
       "1     17.민원 신청서 용어 질문  \n",
       "2     20.가이드 필요 유무 질문  \n",
       "3  18.관내 복지 지원금 정보 질문  \n",
       "4             07.티켓구매  "
      ]
     },
     "execution_count": 3,
     "metadata": {},
     "output_type": "execute_result"
    }
   ],
   "source": [
    "df.head()"
   ]
  },
  {
   "cell_type": "code",
   "execution_count": 4,
   "metadata": {},
   "outputs": [
    {
     "name": "stderr",
     "output_type": "stream",
     "text": [
      "C:\\Users\\user\\AppData\\Roaming\\Python\\Python312\\site-packages\\sentence_transformers\\cross_encoder\\CrossEncoder.py:13: TqdmExperimentalWarning: Using `tqdm.autonotebook.tqdm` in notebook mode. Use `tqdm.tqdm` instead to force console mode (e.g. in jupyter console)\n",
      "  from tqdm.autonotebook import tqdm, trange\n"
     ]
    },
    {
     "name": "stdout",
     "output_type": "stream",
     "text": [
      "WARNING:tensorflow:From C:\\Users\\user\\AppData\\Roaming\\Python\\Python312\\site-packages\\tf_keras\\src\\losses.py:2976: The name tf.losses.sparse_softmax_cross_entropy is deprecated. Please use tf.compat.v1.losses.sparse_softmax_cross_entropy instead.\n",
      "\n"
     ]
    }
   ],
   "source": [
    "from sentence_transformers import SentenceTransformer, util\n",
    "\n",
    "# S-BERT 모델 로드\n",
    "model = SentenceTransformer('paraphrase-multilingual-MiniLM-L12-v2')"
   ]
  },
  {
   "cell_type": "code",
   "execution_count": 5,
   "metadata": {},
   "outputs": [
    {
     "name": "stdout",
     "output_type": "stream",
     "text": [
      "<class 'pandas.core.frame.DataFrame'>\n",
      "RangeIndex: 30018 entries, 0 to 30017\n",
      "Data columns (total 8 columns):\n",
      " #   Column         Non-Null Count  Dtype \n",
      "---  ------         --------------  ----- \n",
      " 0   Unnamed: 0     30018 non-null  int64 \n",
      " 1   location       30018 non-null  object\n",
      " 2   client_gender  30018 non-null  int64 \n",
      " 3   client_age     30018 non-null  int64 \n",
      " 4   question       30018 non-null  object\n",
      " 5   answer         30018 non-null  object\n",
      " 6   category01     30018 non-null  object\n",
      " 7   category02     30018 non-null  object\n",
      "dtypes: int64(3), object(5)\n",
      "memory usage: 1.8+ MB\n"
     ]
    }
   ],
   "source": [
    "df2 = pd.read_csv('final_testdata_result.csv')\n",
    "df2.info()"
   ]
  },
  {
   "cell_type": "code",
   "execution_count": 6,
   "metadata": {},
   "outputs": [
    {
     "name": "stdout",
     "output_type": "stream",
     "text": [
      "<class 'pandas.core.frame.DataFrame'>\n",
      "RangeIndex: 241399 entries, 0 to 241398\n",
      "Data columns (total 7 columns):\n",
      " #   Column         Non-Null Count   Dtype \n",
      "---  ------         --------------   ----- \n",
      " 0   location       241399 non-null  object\n",
      " 1   client_gender  241399 non-null  int64 \n",
      " 2   client_age     241399 non-null  int64 \n",
      " 3   question       241399 non-null  object\n",
      " 4   answer         241399 non-null  object\n",
      " 5   category01     241399 non-null  object\n",
      " 6   category02     241399 non-null  object\n",
      "dtypes: int64(2), object(5)\n",
      "memory usage: 12.9+ MB\n"
     ]
    }
   ],
   "source": [
    "df.info()"
   ]
  },
  {
   "cell_type": "code",
   "execution_count": 7,
   "metadata": {},
   "outputs": [],
   "source": [
    "df2.drop('Unnamed: 0', axis=1, inplace=True)"
   ]
  },
  {
   "cell_type": "code",
   "execution_count": 8,
   "metadata": {},
   "outputs": [
    {
     "name": "stdout",
     "output_type": "stream",
     "text": [
      "<class 'pandas.core.frame.DataFrame'>\n",
      "RangeIndex: 271417 entries, 0 to 271416\n",
      "Data columns (total 7 columns):\n",
      " #   Column         Non-Null Count   Dtype \n",
      "---  ------         --------------   ----- \n",
      " 0   location       271417 non-null  object\n",
      " 1   client_gender  271417 non-null  int64 \n",
      " 2   client_age     271417 non-null  int64 \n",
      " 3   question       271417 non-null  object\n",
      " 4   answer         271417 non-null  object\n",
      " 5   category01     271417 non-null  object\n",
      " 6   category02     271417 non-null  object\n",
      "dtypes: int64(2), object(5)\n",
      "memory usage: 14.5+ MB\n"
     ]
    }
   ],
   "source": [
    "ex_df = pd.concat([df, df2], axis=0, ignore_index=True)\n",
    "\n",
    "ex_df.info()"
   ]
  },
  {
   "cell_type": "code",
   "execution_count": 9,
   "metadata": {},
   "outputs": [
    {
     "data": {
      "text/plain": [
       "category01\n",
       "04.쇼핑활동     112377\n",
       "03.공공기관      50527\n",
       "01.식당카페      40028\n",
       "05.건강의료      34447\n",
       "02.전시관       34031\n",
       "03.식당카페          6\n",
       "003.공공기관         1\n",
       "Name: count, dtype: int64"
      ]
     },
     "execution_count": 9,
     "metadata": {},
     "output_type": "execute_result"
    }
   ],
   "source": [
    "ex_df['category01'].value_counts()"
   ]
  },
  {
   "cell_type": "code",
   "execution_count": 10,
   "metadata": {},
   "outputs": [
    {
     "name": "stdout",
     "output_type": "stream",
     "text": [
      "<class 'pandas.core.frame.DataFrame'>\n",
      "Index: 50527 entries, 1 to 271413\n",
      "Data columns (total 7 columns):\n",
      " #   Column         Non-Null Count  Dtype \n",
      "---  ------         --------------  ----- \n",
      " 0   location       50527 non-null  object\n",
      " 1   client_gender  50527 non-null  int64 \n",
      " 2   client_age     50527 non-null  int64 \n",
      " 3   question       50527 non-null  object\n",
      " 4   answer         50527 non-null  object\n",
      " 5   category01     50527 non-null  object\n",
      " 6   category02     50527 non-null  object\n",
      "dtypes: int64(2), object(5)\n",
      "memory usage: 3.1+ MB\n"
     ]
    }
   ],
   "source": [
    "public_df = ex_df[ex_df['category01'] == '03.공공기관']\n",
    "public_df.info()"
   ]
  },
  {
   "cell_type": "code",
   "execution_count": 11,
   "metadata": {},
   "outputs": [
    {
     "name": "stdout",
     "output_type": "stream",
     "text": [
      "<class 'pandas.core.frame.DataFrame'>\n",
      "Index: 34447 entries, 21 to 271376\n",
      "Data columns (total 7 columns):\n",
      " #   Column         Non-Null Count  Dtype \n",
      "---  ------         --------------  ----- \n",
      " 0   location       34447 non-null  object\n",
      " 1   client_gender  34447 non-null  int64 \n",
      " 2   client_age     34447 non-null  int64 \n",
      " 3   question       34447 non-null  object\n",
      " 4   answer         34447 non-null  object\n",
      " 5   category01     34447 non-null  object\n",
      " 6   category02     34447 non-null  object\n",
      "dtypes: int64(2), object(5)\n",
      "memory usage: 2.1+ MB\n"
     ]
    }
   ],
   "source": [
    "health_df = ex_df[ex_df['category01'] == '05.건강의료']\n",
    "health_df.info()"
   ]
  },
  {
   "cell_type": "code",
   "execution_count": 12,
   "metadata": {},
   "outputs": [
    {
     "name": "stderr",
     "output_type": "stream",
     "text": [
      "public embedding is creating: 100%|██████████| 50527/50527 [17:54<00:00, 47.03it/s]\n",
      "C:\\Users\\user\\AppData\\Local\\Temp\\ipykernel_18740\\2179321469.py:7: SettingWithCopyWarning: \n",
      "A value is trying to be set on a copy of a slice from a DataFrame.\n",
      "Try using .loc[row_indexer,col_indexer] = value instead\n",
      "\n",
      "See the caveats in the documentation: https://pandas.pydata.org/pandas-docs/stable/user_guide/indexing.html#returning-a-view-versus-a-copy\n",
      "  public_df['embedding'] = public_df['question'].progress_apply(lambda x: model.encode(x))\n"
     ]
    }
   ],
   "source": [
    "from tqdm import tqdm\n",
    "\n",
    "# tqdm의 기본 설정\n",
    "tqdm.pandas(desc=\"public embedding is creating\")\n",
    "\n",
    "# 모든 질문의 임베딩을 미리 계산하여 저장 (S-BERT로 임베딩 생성)\n",
    "public_df['embedding'] = public_df['question'].progress_apply(lambda x: model.encode(x))"
   ]
  },
  {
   "cell_type": "code",
   "execution_count": 18,
   "metadata": {},
   "outputs": [],
   "source": [
    "# 사용자 입력에 대한 최적의 답변 선택 함수\n",
    "def get_best_response(user_input, threshold=0.8):\n",
    "    user_embedding = model.encode(user_input)  # S-BERT로 입력 문장 임베딩\n",
    "    \n",
    "    best_similarity = 0\n",
    "    best_response = None\n",
    "    \n",
    "    for _, row in public_df.iterrows():\n",
    "        # S-BERT로 코사인 유사도 계산\n",
    "        similarity = util.cos_sim(user_embedding, row['embedding'])[0][0].item()\n",
    "        if similarity > best_similarity:\n",
    "            best_similarity = similarity\n",
    "            best_response = row['answer']\n",
    "    \n",
    "    # 유사도가 기준 이상일 경우 응답 반환\n",
    "    if best_similarity >= threshold:\n",
    "        return best_response\n",
    "    else:\n",
    "        return \"죄송하지만, 이해할 수 없습니다.\""
   ]
  },
  {
   "cell_type": "code",
   "execution_count": 14,
   "metadata": {},
   "outputs": [],
   "source": [
    "# 모델 저장\n",
    "model.save('public_sbert_model2')"
   ]
  },
  {
   "cell_type": "code",
   "execution_count": 15,
   "metadata": {},
   "outputs": [],
   "source": [
    "public_df.to_csv('public_df_embeddings2.csv', index=False)"
   ]
  },
  {
   "cell_type": "code",
   "execution_count": 16,
   "metadata": {},
   "outputs": [],
   "source": [
    "health_df.to_csv('health_df.csv', index=False)"
   ]
  },
  {
   "cell_type": "code",
   "execution_count": 20,
   "metadata": {},
   "outputs": [
    {
     "name": "stdout",
     "output_type": "stream",
     "text": [
      "챗봇: 확인 결과 인감 외 사인도 동일 서명으로 처리됩니다.\n",
      "챗봇: 네 저녁에 서류 확인 후 진행사항 문자드리겠습니다.\n",
      "챗봇: 죄송하지만, 이해할 수 없습니다.\n",
      "챗봇: 민원 접수 도와드리겠습니다. 원하시는 서비스를 말씀해 주시기 바랍니다.\n"
     ]
    }
   ],
   "source": [
    "# 사용자로부터 입력받기\n",
    "while True:\n",
    "    user_input = input(\"사용자 입력 (종료하려면 'exit' 입력): \")\n",
    "    if user_input.lower() == 'exit':\n",
    "        break\n",
    "    \n",
    "    # 가장 적합한 응답 가져오기\n",
    "    response = get_best_response(user_input)\n",
    "    print(f\"챗봇: {response}\")"
   ]
  },
  {
   "cell_type": "code",
   "execution_count": 21,
   "metadata": {},
   "outputs": [
    {
     "data": {
      "text/plain": [
       "location\n",
       "녹음실ST     7576\n",
       "독지        5421\n",
       "테이크       5324\n",
       "플레닛       5091\n",
       "추억        4771\n",
       "기억        3453\n",
       "토들화       3430\n",
       "탑카페       2517\n",
       "수원(남)     2229\n",
       "비아        1777\n",
       "수원(여)     1565\n",
       "토들그       1322\n",
       "달콤        1290\n",
       "탑         1212\n",
       "달달        1185\n",
       "방그레       1053\n",
       "녹음실 ST     288\n",
       "플래닛        275\n",
       "테이크(남)     147\n",
       "순간         144\n",
       "탑카페        141\n",
       "독지(여)      109\n",
       "독지(남)      100\n",
       "테이크(여)      71\n",
       "수원(남)       36\n",
       "Name: count, dtype: int64"
      ]
     },
     "execution_count": 21,
     "metadata": {},
     "output_type": "execute_result"
    }
   ],
   "source": [
    "public_df['location'].value_counts()"
   ]
  },
  {
   "cell_type": "code",
   "execution_count": 22,
   "metadata": {},
   "outputs": [
    {
     "data": {
      "text/plain": [
       "1         녹음실ST\n",
       "3            추억\n",
       "7           토들화\n",
       "8            추억\n",
       "11           독지\n",
       "          ...  \n",
       "271399      탑카페\n",
       "271402    녹음실ST\n",
       "271405    녹음실ST\n",
       "271406    녹음실ST\n",
       "271413     탑카페 \n",
       "Name: location, Length: 50527, dtype: object"
      ]
     },
     "execution_count": 22,
     "metadata": {},
     "output_type": "execute_result"
    }
   ],
   "source": [
    "public_df['location']"
   ]
  },
  {
   "cell_type": "code",
   "execution_count": 23,
   "metadata": {},
   "outputs": [
    {
     "data": {
      "text/html": [
       "<div>\n",
       "<style scoped>\n",
       "    .dataframe tbody tr th:only-of-type {\n",
       "        vertical-align: middle;\n",
       "    }\n",
       "\n",
       "    .dataframe tbody tr th {\n",
       "        vertical-align: top;\n",
       "    }\n",
       "\n",
       "    .dataframe thead th {\n",
       "        text-align: right;\n",
       "    }\n",
       "</style>\n",
       "<table border=\"1\" class=\"dataframe\">\n",
       "  <thead>\n",
       "    <tr style=\"text-align: right;\">\n",
       "      <th></th>\n",
       "      <th>location</th>\n",
       "      <th>client_gender</th>\n",
       "      <th>client_age</th>\n",
       "      <th>question</th>\n",
       "      <th>answer</th>\n",
       "      <th>category01</th>\n",
       "      <th>category02</th>\n",
       "      <th>embedding</th>\n",
       "    </tr>\n",
       "  </thead>\n",
       "  <tbody>\n",
       "    <tr>\n",
       "      <th>1</th>\n",
       "      <td>녹음실ST</td>\n",
       "      <td>2</td>\n",
       "      <td>29</td>\n",
       "      <td>여기 서명란에 펜이나 연필로 사인해도 되는 거 아니에요?</td>\n",
       "      <td>확인 결과 인감 외 사인도 동일 서명으로 처리됩니다.</td>\n",
       "      <td>03.공공기관</td>\n",
       "      <td>17.민원 신청서 용어 질문</td>\n",
       "      <td>[-0.116057985, 0.10075974, -0.17258728, -0.146...</td>\n",
       "    </tr>\n",
       "    <tr>\n",
       "      <th>3</th>\n",
       "      <td>추억</td>\n",
       "      <td>2</td>\n",
       "      <td>33</td>\n",
       "      <td>이런 전기 요금 할인처럼 비슷한 서비스 같은 것이 또 있나요?</td>\n",
       "      <td>네 소득기준과 세대원 특정 기준에 모두 충족하는 세대에게 에너지 바우처를 지원해 줍니다.</td>\n",
       "      <td>03.공공기관</td>\n",
       "      <td>18.관내 복지 지원금 정보 질문</td>\n",
       "      <td>[-0.351814, -0.06230976, 0.03620774, 0.1529263...</td>\n",
       "    </tr>\n",
       "    <tr>\n",
       "      <th>7</th>\n",
       "      <td>토들화</td>\n",
       "      <td>1</td>\n",
       "      <td>26</td>\n",
       "      <td>여기 소포 보낼 때 한 번에 결제하고 그런 서비스는 지원 안 하나요?</td>\n",
       "      <td>죄송합니다. 선불로 처리될 수밖에 없는 점 양해 부탁드립니다.</td>\n",
       "      <td>03.공공기관</td>\n",
       "      <td>18.관내 복지 지원금 정보 질문</td>\n",
       "      <td>[0.083871126, -0.017508727, -0.004626572, -0.0...</td>\n",
       "    </tr>\n",
       "    <tr>\n",
       "      <th>8</th>\n",
       "      <td>추억</td>\n",
       "      <td>1</td>\n",
       "      <td>32</td>\n",
       "      <td>이런데 로봇이 있어? 신기하네 사업 지원금 관련 담당자는 어디 계실까요?</td>\n",
       "      <td>담당자분 성함 알려주시면 확인 후 안내 도와드리겠습니다.</td>\n",
       "      <td>03.공공기관</td>\n",
       "      <td>13.입장 및 민원서비스 이용 안내</td>\n",
       "      <td>[0.12483957, -0.06675236, -0.15726438, -0.1095...</td>\n",
       "    </tr>\n",
       "    <tr>\n",
       "      <th>11</th>\n",
       "      <td>독지</td>\n",
       "      <td>1</td>\n",
       "      <td>27</td>\n",
       "      <td>서류 가지고 왔어요. 여기에 제출하면 되죠?</td>\n",
       "      <td>성적장학금의 경우 재학 증명서와 성적 증명서가 필요합니다.</td>\n",
       "      <td>03.공공기관</td>\n",
       "      <td>15.준비서류 확인</td>\n",
       "      <td>[-0.0032380272, 0.015413639, -0.081573404, -0....</td>\n",
       "    </tr>\n",
       "    <tr>\n",
       "      <th>...</th>\n",
       "      <td>...</td>\n",
       "      <td>...</td>\n",
       "      <td>...</td>\n",
       "      <td>...</td>\n",
       "      <td>...</td>\n",
       "      <td>...</td>\n",
       "      <td>...</td>\n",
       "      <td>...</td>\n",
       "    </tr>\n",
       "    <tr>\n",
       "      <th>271399</th>\n",
       "      <td>탑카페</td>\n",
       "      <td>1</td>\n",
       "      <td>31</td>\n",
       "      <td>병원에서 난임 진단서는 가져왔는데, 다른 준비물도 있나요?</td>\n",
       "      <td>부부 각각의 신분증, 등본과 건강보험 자격 확인서, 전월 건강보험 납부 확인서가 필...</td>\n",
       "      <td>03.공공기관</td>\n",
       "      <td>15.준비서류 확인</td>\n",
       "      <td>[0.022656206, -0.13251527, 0.13346706, 0.08135...</td>\n",
       "    </tr>\n",
       "    <tr>\n",
       "      <th>271402</th>\n",
       "      <td>녹음실ST</td>\n",
       "      <td>1</td>\n",
       "      <td>29</td>\n",
       "      <td>가게 상호가 영어인데, 한글로 적어야 되나요?</td>\n",
       "      <td>사업자 등록증과 법인 통장에는 영문 상호를 생략하고 국문 상호만 표시하셔도 무관하며...</td>\n",
       "      <td>03.공공기관</td>\n",
       "      <td>16.민원 신청서 작성 안내</td>\n",
       "      <td>[0.15939869, -0.10949187, 0.06120711, -0.12144...</td>\n",
       "    </tr>\n",
       "    <tr>\n",
       "      <th>271405</th>\n",
       "      <td>녹음실ST</td>\n",
       "      <td>1</td>\n",
       "      <td>27</td>\n",
       "      <td>신원 조사 결과는 제가 작성해야 되는 거예요?</td>\n",
       "      <td>해당 신원 조사 결과 가능 고객님이 작성해 주시지 않으셔도 됩니다.</td>\n",
       "      <td>03.공공기관</td>\n",
       "      <td>17.민원 신청서 용어 질문</td>\n",
       "      <td>[0.055527084, 0.043129288, -0.011751682, 0.012...</td>\n",
       "    </tr>\n",
       "    <tr>\n",
       "      <th>271406</th>\n",
       "      <td>녹음실ST</td>\n",
       "      <td>2</td>\n",
       "      <td>25</td>\n",
       "      <td>신청서 내용 작성한 게 조금 어려워서 그런데 도와주실래요?</td>\n",
       "      <td>어려운 부분을 말씀해 주시면, 바로 안내 도와드리도록 하겠습니다.</td>\n",
       "      <td>03.공공기관</td>\n",
       "      <td>16.민원 신청서 작성 안내</td>\n",
       "      <td>[0.055854343, 0.06589181, 0.016625103, -0.0982...</td>\n",
       "    </tr>\n",
       "    <tr>\n",
       "      <th>271413</th>\n",
       "      <td>탑카페</td>\n",
       "      <td>1</td>\n",
       "      <td>24</td>\n",
       "      <td>따로 준비해서 창구에 제출해야 할 서류가 있나요? 챙겨온 게 없어서.</td>\n",
       "      <td>본인 방문인 경우, 신분증만 지참하시면 됩니다.</td>\n",
       "      <td>03.공공기관</td>\n",
       "      <td>15.준비서류 확인</td>\n",
       "      <td>[-0.05702604, -0.069732524, -0.10196748, -0.09...</td>\n",
       "    </tr>\n",
       "  </tbody>\n",
       "</table>\n",
       "<p>50527 rows × 8 columns</p>\n",
       "</div>"
      ],
      "text/plain": [
       "       location  client_gender  client_age  \\\n",
       "1         녹음실ST              2          29   \n",
       "3            추억              2          33   \n",
       "7           토들화              1          26   \n",
       "8            추억              1          32   \n",
       "11           독지              1          27   \n",
       "...         ...            ...         ...   \n",
       "271399      탑카페              1          31   \n",
       "271402    녹음실ST              1          29   \n",
       "271405    녹음실ST              1          27   \n",
       "271406    녹음실ST              2          25   \n",
       "271413     탑카페               1          24   \n",
       "\n",
       "                                        question  \\\n",
       "1                여기 서명란에 펜이나 연필로 사인해도 되는 거 아니에요?   \n",
       "3             이런 전기 요금 할인처럼 비슷한 서비스 같은 것이 또 있나요?   \n",
       "7         여기 소포 보낼 때 한 번에 결제하고 그런 서비스는 지원 안 하나요?   \n",
       "8       이런데 로봇이 있어? 신기하네 사업 지원금 관련 담당자는 어디 계실까요?   \n",
       "11                      서류 가지고 왔어요. 여기에 제출하면 되죠?   \n",
       "...                                          ...   \n",
       "271399          병원에서 난임 진단서는 가져왔는데, 다른 준비물도 있나요?   \n",
       "271402                 가게 상호가 영어인데, 한글로 적어야 되나요?   \n",
       "271405                 신원 조사 결과는 제가 작성해야 되는 거예요?   \n",
       "271406          신청서 내용 작성한 게 조금 어려워서 그런데 도와주실래요?   \n",
       "271413    따로 준비해서 창구에 제출해야 할 서류가 있나요? 챙겨온 게 없어서.   \n",
       "\n",
       "                                                   answer category01  \\\n",
       "1                           확인 결과 인감 외 사인도 동일 서명으로 처리됩니다.    03.공공기관   \n",
       "3       네 소득기준과 세대원 특정 기준에 모두 충족하는 세대에게 에너지 바우처를 지원해 줍니다.    03.공공기관   \n",
       "7                      죄송합니다. 선불로 처리될 수밖에 없는 점 양해 부탁드립니다.    03.공공기관   \n",
       "8                         담당자분 성함 알려주시면 확인 후 안내 도와드리겠습니다.    03.공공기관   \n",
       "11                       성적장학금의 경우 재학 증명서와 성적 증명서가 필요합니다.    03.공공기관   \n",
       "...                                                   ...        ...   \n",
       "271399  부부 각각의 신분증, 등본과 건강보험 자격 확인서, 전월 건강보험 납부 확인서가 필...    03.공공기관   \n",
       "271402  사업자 등록증과 법인 통장에는 영문 상호를 생략하고 국문 상호만 표시하셔도 무관하며...    03.공공기관   \n",
       "271405              해당 신원 조사 결과 가능 고객님이 작성해 주시지 않으셔도 됩니다.    03.공공기관   \n",
       "271406               어려운 부분을 말씀해 주시면, 바로 안내 도와드리도록 하겠습니다.    03.공공기관   \n",
       "271413                         본인 방문인 경우, 신분증만 지참하시면 됩니다.    03.공공기관   \n",
       "\n",
       "                 category02                                          embedding  \n",
       "1           17.민원 신청서 용어 질문  [-0.116057985, 0.10075974, -0.17258728, -0.146...  \n",
       "3        18.관내 복지 지원금 정보 질문  [-0.351814, -0.06230976, 0.03620774, 0.1529263...  \n",
       "7        18.관내 복지 지원금 정보 질문  [0.083871126, -0.017508727, -0.004626572, -0.0...  \n",
       "8       13.입장 및 민원서비스 이용 안내  [0.12483957, -0.06675236, -0.15726438, -0.1095...  \n",
       "11               15.준비서류 확인  [-0.0032380272, 0.015413639, -0.081573404, -0....  \n",
       "...                     ...                                                ...  \n",
       "271399           15.준비서류 확인  [0.022656206, -0.13251527, 0.13346706, 0.08135...  \n",
       "271402      16.민원 신청서 작성 안내  [0.15939869, -0.10949187, 0.06120711, -0.12144...  \n",
       "271405      17.민원 신청서 용어 질문  [0.055527084, 0.043129288, -0.011751682, 0.012...  \n",
       "271406      16.민원 신청서 작성 안내  [0.055854343, 0.06589181, 0.016625103, -0.0982...  \n",
       "271413           15.준비서류 확인  [-0.05702604, -0.069732524, -0.10196748, -0.09...  \n",
       "\n",
       "[50527 rows x 8 columns]"
      ]
     },
     "execution_count": 23,
     "metadata": {},
     "output_type": "execute_result"
    }
   ],
   "source": [
    "public_df"
   ]
  }
 ],
 "metadata": {
  "kernelspec": {
   "display_name": "Python 3",
   "language": "python",
   "name": "python3"
  },
  "language_info": {
   "codemirror_mode": {
    "name": "ipython",
    "version": 3
   },
   "file_extension": ".py",
   "mimetype": "text/x-python",
   "name": "python",
   "nbconvert_exporter": "python",
   "pygments_lexer": "ipython3",
   "version": "3.12.4"
  }
 },
 "nbformat": 4,
 "nbformat_minor": 2
}
